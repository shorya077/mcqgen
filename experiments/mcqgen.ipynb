{
 "cells": [
  {
   "cell_type": "code",
   "execution_count": 100,
   "id": "b98bc19d",
   "metadata": {},
   "outputs": [],
   "source": [
    "import os  \n",
    "import json\n",
    "import pandas as pd\n",
    "import traceback\n"
   ]
  },
  {
   "cell_type": "code",
   "execution_count": 101,
   "id": "e2c10a2a",
   "metadata": {},
   "outputs": [],
   "source": [
    "from langchain.chat_models import ChatOpenAI\n"
   ]
  },
  {
   "cell_type": "code",
   "execution_count": 102,
   "id": "9f42a1ea",
   "metadata": {},
   "outputs": [],
   "source": [
    "\n",
    "from langchain.llms import OpenAI"
   ]
  },
  {
   "cell_type": "code",
   "execution_count": 103,
   "id": "044c9622",
   "metadata": {},
   "outputs": [],
   "source": [
    "llm = ChatOpenAI(\n",
    "    openai_api_key=\"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\",\n",
    "    base_url=\"https://openrouter.ai/api/v1\",\n",
    "    model=\"openai/gpt-3.5-turbo\",\n",
    ")"
   ]
  },
  {
   "cell_type": "code",
   "execution_count": 104,
   "id": "65fd8a79",
   "metadata": {},
   "outputs": [
    {
     "data": {
      "text/plain": [
       "ChatOpenAI(client=<openai.resources.chat.completions.completions.Completions object at 0x00000224924AF090>, async_client=<openai.resources.chat.completions.completions.AsyncCompletions object at 0x00000224923E9490>, model_name='openai/gpt-3.5-turbo', model_kwargs={}, openai_api_key='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', openai_api_base='https://openrouter.ai/api/v1', openai_proxy='')"
      ]
     },
     "execution_count": 104,
     "metadata": {},
     "output_type": "execute_result"
    }
   ],
   "source": [
    "llm"
   ]
  },
  {
   "cell_type": "code",
   "execution_count": 105,
   "id": "12c50c13",
   "metadata": {},
   "outputs": [],
   "source": [
    "from langchain.llms import OpenAI\n",
    "from langchain.prompts import PromptTemplate\n",
    "from langchain.chains import LLMChain\n",
    "from langchain.chains import SequentialChain\n",
    "from langchain.callbacks import get_openai_callback\n",
    "import PyPDF2"
   ]
  },
  {
   "cell_type": "code",
   "execution_count": 106,
   "id": "5f5f7c15",
   "metadata": {},
   "outputs": [],
   "source": [
    "RESPONSE_JSON = {\n",
    "\n",
    "    \"1\": {\n",
    "\n",
    "        \"mcq\": \"multiple choice question\",\n",
    "        \"options\": {\n",
    "            \"a\": \"choice here\",\n",
    "            \"b\": \"choice here\",\n",
    "            \"c\": \"choice here\",\n",
    "            \"d\": \"choice here\",\n",
    "        },\n",
    "        \"correct\": \"correct answer\",\n",
    "    },\n",
    "\n",
    "    \"2\": {\n",
    "        \"mcq\": \"multiple choice question\",\n",
    "        \"options\": {\n",
    "            \"a\": \"choice here\",\n",
    "            \"b\": \"choice here\",\n",
    "            \"c\": \"choice here\",\n",
    "            \"d\": \"choice here\",\n",
    "        },\n",
    "        \"correct\": \"correct answer\",\n",
    "    },\n",
    "\n",
    "    \"3\": {\n",
    "        \"mcq\": \"multiple choice question\",\n",
    "        \"options\": {\n",
    "            \"a\": \"choice here\",\n",
    "            \"b\": \"choice here\",\n",
    "            \"c\": \"choice here\",\n",
    "            \"d\": \"choice here\",\n",
    "        },\n",
    "        \"correct\": \"correct answer\",\n",
    "    },\n",
    "}"
   ]
  },
  {
   "cell_type": "code",
   "execution_count": 107,
   "id": "587d1970",
   "metadata": {},
   "outputs": [],
   "source": [
    "TEMPLATE=\"\"\"\n",
    "Text: {text}\n",
    "You are an expert MCQ maker. Given the above text, it is your job to \\\n",
    "create a quiz of {number} multiple + questions for {subject} students in {tone} tone.\n",
    "Make sure the questions are not repeated and check all the questions to be conforming the text\n",
    "Make sure to format your response like RESPONSE_JSON below and use it as a guide.\\\n",
    "Ensure to make {number} MCQS\n",
    "### RESPONSE_JSON\n",
    "{response_json}\n",
    "\n",
    "\"\"\""
   ]
  },
  {
   "cell_type": "code",
   "execution_count": 108,
   "id": "ecfea320",
   "metadata": {},
   "outputs": [],
   "source": [
    "quiz_generation_prompt = PromptTemplate(\n",
    "    input_variables=[\"text\",\"number\",\"subject\",\"tone\",\"response_json\"],\n",
    "    template=TEMPLATE\n",
    "    )"
   ]
  },
  {
   "cell_type": "code",
   "execution_count": 109,
   "id": "aedbe7d7",
   "metadata": {},
   "outputs": [],
   "source": [
    "quiz_chain = LLMChain(llm=llm , prompt=quiz_generation_prompt, output_key = \"quiz\", verbose= True)"
   ]
  },
  {
   "cell_type": "code",
   "execution_count": 110,
   "id": "5ed04b31",
   "metadata": {},
   "outputs": [],
   "source": [
    "TEMPLATE2=\"\"\"\n",
    "You are an expert english grammarian and writer. Given a Multiple Choice Quiz for {subject} students.\\\n",
    "\n",
    "You need to evaluate the complexity of the question and give a complete analysis of the quiz. Only use at max 50 words for complexity \n",
    "if the quiz is not at per with the cognitive and analytical abilities of the students,\\\n",
    "update the quiz questions which needs to be changed and change the tone such that it perfectly fits the student abilities\n",
    "Quiz_MCQs:\n",
    "{quiz}\n",
    "\n",
    "Check from an expert English Writer of the above quiz:\n",
    "\"\"\"\n"
   ]
  },
  {
   "cell_type": "code",
   "execution_count": 111,
   "id": "5bc92f3d",
   "metadata": {},
   "outputs": [],
   "source": [
    "quiz_evaluation_prompt = PromptTemplate(input_variables=[\"subject\",\"quiz\"], template=TEMPLATE)"
   ]
  },
  {
   "cell_type": "code",
   "execution_count": 112,
   "id": "6b726581",
   "metadata": {},
   "outputs": [],
   "source": [
    "\n",
    "review_chain = LLMChain(\n",
    "    llm=llm,\n",
    "    prompt=quiz_evaluation_prompt,\n",
    "    output_key=\"review\",\n",
    "    verbose=True\n",
    ")\n",
    "\n",
    "\n"
   ]
  },
  {
   "cell_type": "code",
   "execution_count": 113,
   "id": "616c83a2",
   "metadata": {},
   "outputs": [],
   "source": [
    "generate_evaluate_chain = SequentialChain(\n",
    "    chains=[quiz_chain, review_chain],\n",
    "    input_variables=[\"text\", \"number\", \"subject\", \"tone\", \"response_json\"],\n",
    "    output_variables=[\"quiz\", \"review\"],\n",
    "    verbose=True\n",
    ")\n"
   ]
  },
  {
   "cell_type": "code",
   "execution_count": 114,
   "id": "3d358c7e",
   "metadata": {},
   "outputs": [],
   "source": [
    "file_path=r\"C:\\Users\\modgi\\mcqgen\\data.txt\""
   ]
  },
  {
   "cell_type": "code",
   "execution_count": 115,
   "id": "be8f6eaf",
   "metadata": {},
   "outputs": [],
   "source": [
    "with open(file_path, 'r') as file:\n",
    "    TEXT = file.read()"
   ]
  },
  {
   "cell_type": "code",
   "execution_count": 116,
   "id": "2f4f5cc9",
   "metadata": {},
   "outputs": [
    {
     "name": "stdout",
     "output_type": "stream",
     "text": [
      "Machine learning (ML) is a field of study in artificial intelligence concerned with the development and study of statistical algorithms that can learn from data and generalise to unseen data, and thus perform tasks without explicit instructions.[1] Within a subdiscipline in machine learning, advances in the field of deep learning have allowed neural networks, a class of statistical algorithms, to surpass many previous machine learning approaches in performance.[2]\n",
      "\n",
      "ML finds application in many fields, including natural language processing, computer vision, speech recognition, email filtering, agriculture, and medicine. The application of ML to business problems is known as predictive analytics.\n",
      "\n",
      "Statistics and mathematical optimisation (mathematical programming) methods comprise the foundations of machine learning. Data mining is a related field of study, focusing on exploratory data analysis (EDA) via unsupervised learning.[4][5]\n",
      "\n",
      "From a theoretical viewpoint, probably approximately correct learning provides a framework for describing machine learning.\n",
      "\n"
     ]
    }
   ],
   "source": [
    "print(TEXT)"
   ]
  },
  {
   "cell_type": "code",
   "execution_count": 117,
   "id": "c962daac",
   "metadata": {},
   "outputs": [
    {
     "data": {
      "text/plain": [
       "'{\"1\": {\"mcq\": \"multiple choice question\", \"options\": {\"a\": \"choice here\", \"b\": \"choice here\", \"c\": \"choice here\", \"d\": \"choice here\"}, \"correct\": \"correct answer\"}, \"2\": {\"mcq\": \"multiple choice question\", \"options\": {\"a\": \"choice here\", \"b\": \"choice here\", \"c\": \"choice here\", \"d\": \"choice here\"}, \"correct\": \"correct answer\"}, \"3\": {\"mcq\": \"multiple choice question\", \"options\": {\"a\": \"choice here\", \"b\": \"choice here\", \"c\": \"choice here\", \"d\": \"choice here\"}, \"correct\": \"correct answer\"}}'"
      ]
     },
     "execution_count": 117,
     "metadata": {},
     "output_type": "execute_result"
    }
   ],
   "source": [
    "json.dumps(RESPONSE_JSON)"
   ]
  },
  {
   "cell_type": "code",
   "execution_count": 119,
   "id": "4b56ea3a",
   "metadata": {},
   "outputs": [
    {
     "name": "stderr",
     "output_type": "stream",
     "text": [
      "C:\\Users\\modgi\\AppData\\Local\\Temp\\ipykernel_26172\\2380114245.py:7: LangChainDeprecationWarning: The method `Chain.__call__` was deprecated in langchain 0.1.0 and will be removed in 1.0. Use :meth:`~invoke` instead.\n",
      "  response=generate_evaluate_chain(\n"
     ]
    },
    {
     "name": "stdout",
     "output_type": "stream",
     "text": [
      "\n",
      "\n",
      "\u001b[1m> Entering new SequentialChain chain...\u001b[0m\n",
      "\n",
      "\n",
      "\u001b[1m> Entering new LLMChain chain...\u001b[0m\n",
      "Prompt after formatting:\n",
      "\u001b[32;1m\u001b[1;3m\n",
      "Text: Machine learning (ML) is a field of study in artificial intelligence concerned with the development and study of statistical algorithms that can learn from data and generalise to unseen data, and thus perform tasks without explicit instructions.[1] Within a subdiscipline in machine learning, advances in the field of deep learning have allowed neural networks, a class of statistical algorithms, to surpass many previous machine learning approaches in performance.[2]\n",
      "\n",
      "ML finds application in many fields, including natural language processing, computer vision, speech recognition, email filtering, agriculture, and medicine. The application of ML to business problems is known as predictive analytics.\n",
      "\n",
      "Statistics and mathematical optimisation (mathematical programming) methods comprise the foundations of machine learning. Data mining is a related field of study, focusing on exploratory data analysis (EDA) via unsupervised learning.[4][5]\n",
      "\n",
      "From a theoretical viewpoint, probably approximately correct learning provides a framework for describing machine learning.\n",
      "\n",
      "You are an expert MCQ maker. Given the above text, it is your job to create a quiz of 5 multiple + questions for ML students in Simple and clear tone.\n",
      "Make sure the questions are not repeated and check all the questions to be conforming the text\n",
      "Make sure to format your response like RESPONSE_JSON below and use it as a guide.Ensure to make 5 MCQS\n",
      "### RESPONSE_JSON\n",
      "{\"1\": {\"mcq\": \"multiple choice question\", \"options\": {\"a\": \"choice here\", \"b\": \"choice here\", \"c\": \"choice here\", \"d\": \"choice here\"}, \"correct\": \"correct answer\"}, \"2\": {\"mcq\": \"multiple choice question\", \"options\": {\"a\": \"choice here\", \"b\": \"choice here\", \"c\": \"choice here\", \"d\": \"choice here\"}, \"correct\": \"correct answer\"}, \"3\": {\"mcq\": \"multiple choice question\", \"options\": {\"a\": \"choice here\", \"b\": \"choice here\", \"c\": \"choice here\", \"d\": \"choice here\"}, \"correct\": \"correct answer\"}}\n",
      "\n",
      "\u001b[0m\n",
      "\n",
      "\u001b[1m> Finished chain.\u001b[0m\n",
      "\n",
      "\n",
      "\u001b[1m> Entering new LLMChain chain...\u001b[0m\n",
      "Prompt after formatting:\n",
      "\u001b[32;1m\u001b[1;3m\n",
      "Text: Machine learning (ML) is a field of study in artificial intelligence concerned with the development and study of statistical algorithms that can learn from data and generalise to unseen data, and thus perform tasks without explicit instructions.[1] Within a subdiscipline in machine learning, advances in the field of deep learning have allowed neural networks, a class of statistical algorithms, to surpass many previous machine learning approaches in performance.[2]\n",
      "\n",
      "ML finds application in many fields, including natural language processing, computer vision, speech recognition, email filtering, agriculture, and medicine. The application of ML to business problems is known as predictive analytics.\n",
      "\n",
      "Statistics and mathematical optimisation (mathematical programming) methods comprise the foundations of machine learning. Data mining is a related field of study, focusing on exploratory data analysis (EDA) via unsupervised learning.[4][5]\n",
      "\n",
      "From a theoretical viewpoint, probably approximately correct learning provides a framework for describing machine learning.\n",
      "\n",
      "You are an expert MCQ maker. Given the above text, it is your job to create a quiz of 5 multiple + questions for ML students in Simple and clear tone.\n",
      "Make sure the questions are not repeated and check all the questions to be conforming the text\n",
      "Make sure to format your response like RESPONSE_JSON below and use it as a guide.Ensure to make 5 MCQS\n",
      "### RESPONSE_JSON\n",
      "{\"1\": {\"mcq\": \"multiple choice question\", \"options\": {\"a\": \"choice here\", \"b\": \"choice here\", \"c\": \"choice here\", \"d\": \"choice here\"}, \"correct\": \"correct answer\"}, \"2\": {\"mcq\": \"multiple choice question\", \"options\": {\"a\": \"choice here\", \"b\": \"choice here\", \"c\": \"choice here\", \"d\": \"choice here\"}, \"correct\": \"correct answer\"}, \"3\": {\"mcq\": \"multiple choice question\", \"options\": {\"a\": \"choice here\", \"b\": \"choice here\", \"c\": \"choice here\", \"d\": \"choice here\"}, \"correct\": \"correct answer\"}}\n",
      "\n",
      "\u001b[0m\n",
      "\n",
      "\u001b[1m> Finished chain.\u001b[0m\n",
      "\n",
      "\u001b[1m> Finished chain.\u001b[0m\n"
     ]
    }
   ],
   "source": [
    "NUMBER = 5  # Number of MCQs you want\n",
    "SUBJECT = \"ML\"\n",
    "TONE = \"Simple and clear\"\n",
    "\n",
    "\n",
    "with get_openai_callback() as cb:\n",
    "    response=generate_evaluate_chain(\n",
    "        {\n",
    "            \"text\":TEXT,\n",
    "            \"number\":NUMBER,\n",
    "            \"subject\":SUBJECT,\n",
    "            \"tone\":TONE, \n",
    "            \"response_json\": json.dumps(RESPONSE_JSON)\n",
    "        }\n",
    "    )    "
   ]
  },
  {
   "cell_type": "code",
   "execution_count": 120,
   "id": "4822060a",
   "metadata": {},
   "outputs": [
    {
     "name": "stdout",
     "output_type": "stream",
     "text": [
      "1609\n",
      "862\n",
      "747\n",
      "0.0\n"
     ]
    }
   ],
   "source": [
    "print(f\"{cb.total_tokens}\")\n",
    "print(f\"{cb.prompt_tokens}\")\n",
    "print(f\"{cb.completion_tokens}\")\n",
    "print(f\"{cb.total_cost}\")"
   ]
  },
  {
   "cell_type": "code",
   "execution_count": 121,
   "id": "75e84d3e",
   "metadata": {},
   "outputs": [
    {
     "data": {
      "text/plain": [
       "{'text': 'Machine learning (ML) is a field of study in artificial intelligence concerned with the development and study of statistical algorithms that can learn from data and generalise to unseen data, and thus perform tasks without explicit instructions.[1] Within a subdiscipline in machine learning, advances in the field of deep learning have allowed neural networks, a class of statistical algorithms, to surpass many previous machine learning approaches in performance.[2]\\n\\nML finds application in many fields, including natural language processing, computer vision, speech recognition, email filtering, agriculture, and medicine. The application of ML to business problems is known as predictive analytics.\\n\\nStatistics and mathematical optimisation (mathematical programming) methods comprise the foundations of machine learning. Data mining is a related field of study, focusing on exploratory data analysis (EDA) via unsupervised learning.[4][5]\\n\\nFrom a theoretical viewpoint, probably approximately correct learning provides a framework for describing machine learning.\\n',\n",
       " 'number': 5,\n",
       " 'subject': 'ML',\n",
       " 'tone': 'Simple and clear',\n",
       " 'response_json': '{\"1\": {\"mcq\": \"multiple choice question\", \"options\": {\"a\": \"choice here\", \"b\": \"choice here\", \"c\": \"choice here\", \"d\": \"choice here\"}, \"correct\": \"correct answer\"}, \"2\": {\"mcq\": \"multiple choice question\", \"options\": {\"a\": \"choice here\", \"b\": \"choice here\", \"c\": \"choice here\", \"d\": \"choice here\"}, \"correct\": \"correct answer\"}, \"3\": {\"mcq\": \"multiple choice question\", \"options\": {\"a\": \"choice here\", \"b\": \"choice here\", \"c\": \"choice here\", \"d\": \"choice here\"}, \"correct\": \"correct answer\"}}',\n",
       " 'quiz': '\\n{\\n\"1\": {\\n\"mcq\": \"What is machine learning?\",\\n\"options\": {\\n\"a\": \"A field of study in artificial intelligence concerned with developing and studying statistical algorithms\",\\n\"b\": \"A field of study in artificial intelligence only concerned with data analysis\",\\n\"c\": \"A field of study in artificial intelligence focused on robotics\",\\n\"d\": \"A field of study in artificial intelligence focused on computer programming\"\\n},\\n\"correct\": \"a\"\\n},\\n\"2\": {\\n\"mcq\": \"What is the application of machine learning to business problems known as?\",\\n\"options\": {\\n\"a\": \"Predictive analytics\",\\n\"b\": \"Natural language processing\",\\n\"c\": \"Computer vision\",\\n\"d\": \"Data mining\"\\n},\\n\"correct\": \"a\"\\n},\\n\"3\": {\\n\"mcq\": \"Which field of study focuses on exploratory data analysis via unsupervised learning?\",\\n\"options\": {\\n\"a\": \"Machine learning\",\\n\"b\": \"Data mining\",\\n\"c\": \"Deep learning\",\\n\"d\": \"Artificial intelligence\"\\n},\\n\"correct\": \"b\"\\n},\\n\"4\": {\\n\"mcq\": \"What class of statistical algorithms have surpassed many previous machine learning approaches in performance?\",\\n\"options\": {\\n\"a\": \"Neural networks\",\\n\"b\": \"Decision trees\",\\n\"c\": \"Support vector machines\",\\n\"d\": \"Logistic regression\"\\n},\\n\"correct\": \"a\"\\n},\\n\"5\": {\\n\"mcq\": \"What provides a framework for describing machine learning from a theoretical viewpoint?\",\\n\"options\": {\\n\"a\": \"Deep learning\",\\n\"b\": \"Probably approximately correct learning\",\\n\"c\": \"Natural language processing\",\\n\"d\": \"Email filtering\"\\n},\\n\"correct\": \"b\"\\n}\\n}',\n",
       " 'review': '\\n{\\n    \"1\": {\\n        \"mcq\": \"What field of study in artificial intelligence is concerned with the development and study of statistical algorithms that can learn from data and generalise to unseen data?\",\\n        \"options\": {\\n            \"a\": \"Robotics\",\\n            \"b\": \"Machine Learning\",\\n            \"c\": \"Computer Vision\",\\n            \"d\": \"Natural Language Processing\"\\n        },\\n        \"correct\": \"b\"\\n    },\\n    \"2\": {\\n        \"mcq\": \"Which subdiscipline in machine learning has allowed neural networks to surpass many previous machine learning approaches in performance?\",\\n        \"options\": {\\n            \"a\": \"Supervised Learning\",\\n            \"b\": \"Deep Learning\",\\n            \"c\": \"Unsupervised Learning\",\\n            \"d\": \"Reinforcement Learning\"\\n        },\\n        \"correct\": \"b\"\\n    },\\n    \"3\": {\\n        \"mcq\": \"What is the application of machine learning to business problems known as?\",\\n        \"options\": {\\n            \"a\": \"Statistical Analysis\",\\n            \"b\": \"Predictive Analytics\",\\n            \"c\": \"Data Mining\",\\n            \"d\": \"Mathematical Optimization\"\\n        },\\n        \"correct\": \"b\"\\n    },\\n    \"4\": {\\n        \"mcq\": \"Which field of study focuses on exploratory data analysis via unsupervised learning?\",\\n        \"options\": {\\n            \"a\": \"Deep Learning\",\\n            \"b\": \"Natural Language Processing\",\\n            \"c\": \"Data Mining\",\\n            \"d\": \"Speech Recognition\"\\n        },\\n        \"correct\": \"c\"\\n    },\\n    \"5\": {\\n        \"mcq\": \"What framework provides a theoretical viewpoint for describing machine learning?\",\\n        \"options\": {\\n            \"a\": \"Approximately Correct Learning\",\\n            \"b\": \"Supervised Learning\",\\n            \"c\": \"Reinforcement Learning\",\\n            \"d\": \"Deep Learning\"\\n        },\\n        \"correct\": \"a\"\\n    }\\n}'}"
      ]
     },
     "execution_count": 121,
     "metadata": {},
     "output_type": "execute_result"
    }
   ],
   "source": [
    "response \n"
   ]
  },
  {
   "cell_type": "code",
   "execution_count": 134,
   "id": "1ec56352",
   "metadata": {},
   "outputs": [],
   "source": [
    "quiz = response.get(\"quiz\")\n",
    "quiz=json.loads(quiz)"
   ]
  },
  {
   "cell_type": "code",
   "execution_count": 136,
   "id": "b29057b7",
   "metadata": {},
   "outputs": [],
   "source": [
    "quiz_table_data = []\n",
    "for key, value in quiz.items():\n",
    "    mcq = value[\"mcq\"]\n",
    "    option = \" | \".join(\n",
    "        [\n",
    "            f\"{option}: {option_value}\"\n",
    "            for option, option_value in value[\"options\"].items()\n",
    "            ]\n",
    "        )\n",
    "    correct = value[\"correct\"]\n",
    "    quiz_table_data.append({\"MCQ\":mcq, \"choice\":option, \"Correct\":correct})"
   ]
  },
  {
   "cell_type": "code",
   "execution_count": 137,
   "id": "c81b7c91",
   "metadata": {},
   "outputs": [
    {
     "data": {
      "text/plain": [
       "[{'MCQ': 'What is machine learning?',\n",
       "  'choice': 'a: A field of study in artificial intelligence concerned with developing and studying statistical algorithms | b: A field of study in artificial intelligence only concerned with data analysis | c: A field of study in artificial intelligence focused on robotics | d: A field of study in artificial intelligence focused on computer programming',\n",
       "  'Correct': 'a'},\n",
       " {'MCQ': 'What is the application of machine learning to business problems known as?',\n",
       "  'choice': 'a: Predictive analytics | b: Natural language processing | c: Computer vision | d: Data mining',\n",
       "  'Correct': 'a'},\n",
       " {'MCQ': 'Which field of study focuses on exploratory data analysis via unsupervised learning?',\n",
       "  'choice': 'a: Machine learning | b: Data mining | c: Deep learning | d: Artificial intelligence',\n",
       "  'Correct': 'b'},\n",
       " {'MCQ': 'What class of statistical algorithms have surpassed many previous machine learning approaches in performance?',\n",
       "  'choice': 'a: Neural networks | b: Decision trees | c: Support vector machines | d: Logistic regression',\n",
       "  'Correct': 'a'},\n",
       " {'MCQ': 'What provides a framework for describing machine learning from a theoretical viewpoint?',\n",
       "  'choice': 'a: Deep learning | b: Probably approximately correct learning | c: Natural language processing | d: Email filtering',\n",
       "  'Correct': 'b'}]"
      ]
     },
     "execution_count": 137,
     "metadata": {},
     "output_type": "execute_result"
    }
   ],
   "source": [
    "quiz_table_data"
   ]
  },
  {
   "cell_type": "code",
   "execution_count": 141,
   "id": "97d24724",
   "metadata": {},
   "outputs": [
    {
     "data": {
      "text/html": [
       "<div>\n",
       "<style scoped>\n",
       "    .dataframe tbody tr th:only-of-type {\n",
       "        vertical-align: middle;\n",
       "    }\n",
       "\n",
       "    .dataframe tbody tr th {\n",
       "        vertical-align: top;\n",
       "    }\n",
       "\n",
       "    .dataframe thead th {\n",
       "        text-align: right;\n",
       "    }\n",
       "</style>\n",
       "<table border=\"1\" class=\"dataframe\">\n",
       "  <thead>\n",
       "    <tr style=\"text-align: right;\">\n",
       "      <th></th>\n",
       "      <th>MCQ</th>\n",
       "      <th>choice</th>\n",
       "      <th>Correct</th>\n",
       "    </tr>\n",
       "  </thead>\n",
       "  <tbody>\n",
       "    <tr>\n",
       "      <th>0</th>\n",
       "      <td>What is machine learning?</td>\n",
       "      <td>a: A field of study in artificial intelligence...</td>\n",
       "      <td>a</td>\n",
       "    </tr>\n",
       "    <tr>\n",
       "      <th>1</th>\n",
       "      <td>What is the application of machine learning to...</td>\n",
       "      <td>a: Predictive analytics | b: Natural language ...</td>\n",
       "      <td>a</td>\n",
       "    </tr>\n",
       "    <tr>\n",
       "      <th>2</th>\n",
       "      <td>Which field of study focuses on exploratory da...</td>\n",
       "      <td>a: Machine learning | b: Data mining | c: Deep...</td>\n",
       "      <td>b</td>\n",
       "    </tr>\n",
       "    <tr>\n",
       "      <th>3</th>\n",
       "      <td>What class of statistical algorithms have surp...</td>\n",
       "      <td>a: Neural networks | b: Decision trees | c: Su...</td>\n",
       "      <td>a</td>\n",
       "    </tr>\n",
       "    <tr>\n",
       "      <th>4</th>\n",
       "      <td>What provides a framework for describing machi...</td>\n",
       "      <td>a: Deep learning | b: Probably approximately c...</td>\n",
       "      <td>b</td>\n",
       "    </tr>\n",
       "  </tbody>\n",
       "</table>\n",
       "</div>"
      ],
      "text/plain": [
       "                                                 MCQ  \\\n",
       "0                          What is machine learning?   \n",
       "1  What is the application of machine learning to...   \n",
       "2  Which field of study focuses on exploratory da...   \n",
       "3  What class of statistical algorithms have surp...   \n",
       "4  What provides a framework for describing machi...   \n",
       "\n",
       "                                              choice Correct  \n",
       "0  a: A field of study in artificial intelligence...       a  \n",
       "1  a: Predictive analytics | b: Natural language ...       a  \n",
       "2  a: Machine learning | b: Data mining | c: Deep...       b  \n",
       "3  a: Neural networks | b: Decision trees | c: Su...       a  \n",
       "4  a: Deep learning | b: Probably approximately c...       b  "
      ]
     },
     "execution_count": 141,
     "metadata": {},
     "output_type": "execute_result"
    }
   ],
   "source": [
    "pd.DataFrame(quiz_table_data)"
   ]
  },
  {
   "cell_type": "code",
   "execution_count": 139,
   "id": "c7e9e549",
   "metadata": {},
   "outputs": [],
   "source": [
    "quiz=pd.DataFrame(quiz_table_data)"
   ]
  },
  {
   "cell_type": "code",
   "execution_count": 140,
   "id": "8aa1ffac",
   "metadata": {},
   "outputs": [],
   "source": [
    "quiz.to_csv(\"ml.csv\", index=False)"
   ]
  }
 ],
 "metadata": {
  "kernelspec": {
   "display_name": "Python 3",
   "language": "python",
   "name": "python3"
  },
  "language_info": {
   "codemirror_mode": {
    "name": "ipython",
    "version": 3
   },
   "file_extension": ".py",
   "mimetype": "text/x-python",
   "name": "python",
   "nbconvert_exporter": "python",
   "pygments_lexer": "ipython3",
   "version": "3.11.9"
  }
 },
 "nbformat": 4,
 "nbformat_minor": 5
}
